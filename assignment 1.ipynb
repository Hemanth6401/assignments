{
 "cells": [
  {
   "cell_type": "code",
   "execution_count": 1,
   "id": "18cd5ada",
   "metadata": {},
   "outputs": [],
   "source": [
    "import numpy as np"
   ]
  },
  {
   "cell_type": "markdown",
   "id": "5caa10cb",
   "metadata": {},
   "source": [
    "### 1). Create a tuple called data with two values, (1, 2) and (3, 4)"
   ]
  },
  {
   "cell_type": "code",
   "execution_count": 5,
   "id": "3b0e8fa0",
   "metadata": {},
   "outputs": [],
   "source": [
    "data=((1,2),(3,4))"
   ]
  },
  {
   "cell_type": "code",
   "execution_count": 6,
   "id": "6506a4e7",
   "metadata": {},
   "outputs": [
    {
     "data": {
      "text/plain": [
       "((1, 2), (3, 4))"
      ]
     },
     "execution_count": 6,
     "metadata": {},
     "output_type": "execute_result"
    }
   ],
   "source": [
    "data"
   ]
  },
  {
   "cell_type": "markdown",
   "id": "2d8e0c4d",
   "metadata": {},
   "source": [
    "### 2). Create the list [4, 3, 2, 1] and assign it to variable numbers."
   ]
  },
  {
   "cell_type": "code",
   "execution_count": 7,
   "id": "6a155d91",
   "metadata": {},
   "outputs": [],
   "source": [
    "numbers=[4,3,2,1]"
   ]
  },
  {
   "cell_type": "code",
   "execution_count": 8,
   "id": "bffd5251",
   "metadata": {},
   "outputs": [
    {
     "data": {
      "text/plain": [
       "[4, 3, 2, 1]"
      ]
     },
     "execution_count": 8,
     "metadata": {},
     "output_type": "execute_result"
    }
   ],
   "source": [
    "numbers"
   ]
  },
  {
   "cell_type": "markdown",
   "id": "1e43b6a5",
   "metadata": {},
   "source": [
    "### 3). Create a copy of the number list using [:]"
   ]
  },
  {
   "cell_type": "code",
   "execution_count": null,
   "id": "bfe04a81",
   "metadata": {},
   "outputs": [],
   "source": [
    "list_copy=numbers.copy()\n",
    "list_copy"
   ]
  },
  {
   "cell_type": "markdown",
   "id": "94be73f7",
   "metadata": {},
   "source": [
    "### 4). Sort the numbers list in numerical order"
   ]
  },
  {
   "cell_type": "code",
   "execution_count": 11,
   "id": "39de50a7",
   "metadata": {},
   "outputs": [
    {
     "data": {
      "text/plain": [
       "[1, 2, 3, 4]"
      ]
     },
     "execution_count": 11,
     "metadata": {},
     "output_type": "execute_result"
    }
   ],
   "source": [
    "numbers.sort(reverse=False)\n",
    "numbers"
   ]
  },
  {
   "cell_type": "markdown",
   "id": "a51051e6",
   "metadata": {},
   "source": [
    "### 5). Create a tuple \"cardinal_numbers\" with \"first\", \"second\" and \"third\""
   ]
  },
  {
   "cell_type": "code",
   "execution_count": 12,
   "id": "4dca6870",
   "metadata": {},
   "outputs": [
    {
     "data": {
      "text/plain": [
       "('first', 'second', 'third')"
      ]
     },
     "execution_count": 12,
     "metadata": {},
     "output_type": "execute_result"
    }
   ],
   "source": [
    "cardinal_numbers=('first','second','third')\n",
    "cardinal_numbers"
   ]
  },
  {
   "cell_type": "markdown",
   "id": "5e1f0085",
   "metadata": {},
   "source": [
    "### 6). Display the second object in the tuple"
   ]
  },
  {
   "cell_type": "code",
   "execution_count": 17,
   "id": "74686716",
   "metadata": {},
   "outputs": [
    {
     "data": {
      "text/plain": [
       "'second'"
      ]
     },
     "execution_count": 17,
     "metadata": {},
     "output_type": "execute_result"
    }
   ],
   "source": [
    "cardinal_numbers[1]\n"
   ]
  },
  {
   "cell_type": "code",
   "execution_count": 16,
   "id": "3d3941a0",
   "metadata": {},
   "outputs": [
    {
     "data": {
      "text/plain": [
       "'third'"
      ]
     },
     "execution_count": 16,
     "metadata": {},
     "output_type": "execute_result"
    }
   ],
   "source": [
    "cardinal_numbers[2]"
   ]
  },
  {
   "cell_type": "markdown",
   "id": "c9011e40",
   "metadata": {},
   "source": [
    "### 7). Unpack the tuple into three strings and display them"
   ]
  },
  {
   "cell_type": "code",
   "execution_count": 19,
   "id": "25b830bc",
   "metadata": {},
   "outputs": [
    {
     "data": {
      "text/plain": [
       "('first', 'second', 'third')"
      ]
     },
     "execution_count": 19,
     "metadata": {},
     "output_type": "execute_result"
    }
   ],
   "source": [
    "cardinal_numbers"
   ]
  },
  {
   "cell_type": "code",
   "execution_count": 20,
   "id": "bca82f7e",
   "metadata": {},
   "outputs": [
    {
     "name": "stdout",
     "output_type": "stream",
     "text": [
      "first second third\n"
     ]
    }
   ],
   "source": [
    "(val1,val2,val3)=cardinal_numbers\n",
    "print(val1,val2,val3)"
   ]
  },
  {
   "cell_type": "code",
   "execution_count": 22,
   "id": "3b3e350b",
   "metadata": {},
   "outputs": [
    {
     "name": "stdout",
     "output_type": "stream",
     "text": [
      "green grapes   ['simla apple', 'srinagar apple']\n"
     ]
    }
   ],
   "source": [
    "fruits=('green grapes','simla apple','srinagar apple')\n",
    "(grap,*types)=fruits\n",
    "print(grap,\" \",types)"
   ]
  },
  {
   "cell_type": "markdown",
   "id": "54f8b4df",
   "metadata": {},
   "source": [
    "### 8). Create a tuple containing the letters of your name from a string"
   ]
  },
  {
   "cell_type": "code",
   "execution_count": 23,
   "id": "e4e22da8",
   "metadata": {},
   "outputs": [
    {
     "data": {
      "text/plain": [
       "'H'"
      ]
     },
     "execution_count": 23,
     "metadata": {},
     "output_type": "execute_result"
    }
   ],
   "source": [
    "String=\"Hemanth\"\n",
    "String[0]"
   ]
  },
  {
   "cell_type": "code",
   "execution_count": 24,
   "id": "2df6c65a",
   "metadata": {},
   "outputs": [],
   "source": [
    "name=tuple(String[:])"
   ]
  },
  {
   "cell_type": "code",
   "execution_count": 25,
   "id": "4ec4e85e",
   "metadata": {},
   "outputs": [
    {
     "data": {
      "text/plain": [
       "('H', 'e', 'm', 'a', 'n', 't', 'h')"
      ]
     },
     "execution_count": 25,
     "metadata": {},
     "output_type": "execute_result"
    }
   ],
   "source": [
    "name"
   ]
  },
  {
   "cell_type": "markdown",
   "id": "676c7075",
   "metadata": {},
   "source": [
    "### 9) Check whether or not x is in my_name"
   ]
  },
  {
   "cell_type": "code",
   "execution_count": 49,
   "id": "046e31bd",
   "metadata": {},
   "outputs": [
    {
     "name": "stdout",
     "output_type": "stream",
     "text": [
      "enter your name : xevier\n",
      "x is in my name \n",
      "('x', 'e', 'v', 'i', 'e', 'r')\n"
     ]
    }
   ],
   "source": [
    "name1=input(\"enter your name in lower case : \")\n",
    "my_name=tuple(name1[:])\n",
    "count=0\n",
    "char='x'\n",
    "for item in my_name:\n",
    "    if item==char:\n",
    "        count+=1\n",
    "        print(char,'is in my name ')\n",
    "if count!=1:\n",
    "    print(char,\"is Not in my_name\")\n",
    "print(my_name)"
   ]
  },
  {
   "cell_type": "markdown",
   "id": "4034f751",
   "metadata": {},
   "source": [
    "### 10). Check whether or not s is in my_name"
   ]
  },
  {
   "cell_type": "code",
   "execution_count": 47,
   "id": "be09ad3f",
   "metadata": {},
   "outputs": [
    {
     "name": "stdout",
     "output_type": "stream",
     "text": [
      "enter your name : Hemanth\n",
      "s is Not in my_name\n",
      "('H', 'e', 'm', 'a', 'n', 't', 'h')\n"
     ]
    }
   ],
   "source": [
    "name1=input(\"enter your name in lower case: \")\n",
    "my_name=tuple(name1[:])\n",
    "count=0\n",
    "char='s'\n",
    "for item in my_name:\n",
    "    if item==char:\n",
    "        count+=1\n",
    "        print(char,' is in my name ')\n",
    "if count!=1:\n",
    "    print(char,\"is Not in my_name\")\n",
    "print(my_name)"
   ]
  },
  {
   "cell_type": "code",
   "execution_count": null,
   "id": "a17d39f0",
   "metadata": {},
   "outputs": [],
   "source": []
  }
 ],
 "metadata": {
  "kernelspec": {
   "display_name": "Python 3 (ipykernel)",
   "language": "python",
   "name": "python3"
  },
  "language_info": {
   "codemirror_mode": {
    "name": "ipython",
    "version": 3
   },
   "file_extension": ".py",
   "mimetype": "text/x-python",
   "name": "python",
   "nbconvert_exporter": "python",
   "pygments_lexer": "ipython3",
   "version": "3.10.9"
  }
 },
 "nbformat": 4,
 "nbformat_minor": 5
}
